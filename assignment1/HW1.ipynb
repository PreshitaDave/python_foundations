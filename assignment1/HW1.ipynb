{
 "cells": [
  {
   "cell_type": "markdown",
   "id": "charged-leeds",
   "metadata": {},
   "source": [
    "# Problem 1"
   ]
  },
  {
   "cell_type": "code",
   "execution_count": 11,
   "id": "great-complex",
   "metadata": {},
   "outputs": [],
   "source": [
    "'''\n",
    "Pascal's triangle starts with n=0 and k=0\n",
    "'''\n",
    "\n",
    "\n",
    "# function to construct pascal's triangle \n",
    "def pascal(n):    \n",
    "    if n==0:\n",
    "        return [[1]] # the first top most row is considered as n=0\n",
    "    else:\n",
    "        row=[1] # start a row with 1\n",
    "        triangle=pascal(n-1)\n",
    "        prev_row=triangle[-1]\n",
    "        for i in range(len(prev_row)-1):\n",
    "            row.append(prev_row[i]+prev_row[i+1]) # adding coefficients of previous row to get binomial coefficient of current element\n",
    "        row+=[1] # end the row with 1\n",
    "        triangle.append(row)\n",
    "    return triangle\n",
    "\n",
    "\n",
    "class binomial_coefficients:\n",
    "    def __init__(self):\n",
    "        self.result=[] # initializing variable to store the results for subsequent method calling\n",
    "        self.row=0 # stores the result for method get_n()\n",
    "        \n",
    "    def get_n(self, n): # returns the nth line of pascal's triangle\n",
    "        self.result=pascal(n)\n",
    "        self.row=self.result[-1]            \n",
    "        return self.row\n",
    "        \n",
    "    def get_nk(self, n, k): # returns nCk\n",
    "        # if get_n has not been implemented\n",
    "        if self.row==0:\n",
    "            selected=self.get_n(n)\n",
    "            return selected[k] # returns kth element of nth row\n",
    "        else: # if get_n has been called before\n",
    "            return self.result[n][k] \n",
    "        \n",
    "    def save_pt(self, n, file_name = 'pascal_triangle.txt'):\n",
    "        # to save the pascal's triangle in a text file\n",
    "        with open(file_name, 'wt') as f: # create a new file\n",
    "            triangle_width = len(' '.join(map(str,self.result[-1]))) # find the number of characters including spaces occupying the last line\n",
    "            for i in range(n):\n",
    "                f.write(' '.join(map(str, self.result[i])).center(triangle_width)) #.center() helps to centrally align the string based on a reference\n",
    "                f.write(\"\\n\") # go to the next line \n",
    "        f.close() # close the file"
   ]
  },
  {
   "cell_type": "code",
   "execution_count": 13,
   "id": "solid-acrobat",
   "metadata": {},
   "outputs": [
    {
     "name": "stdout",
     "output_type": "stream",
     "text": [
      "[1, 10, 45, 120, 210, 252, 210, 120, 45, 10, 1]\n",
      "210\n",
      "4\n"
     ]
    }
   ],
   "source": [
    "obj1=binomial_coefficients()\n",
    "print(obj1.get_n(10))\n",
    "print(obj1.get_nk(10,4))\n",
    "print(obj1.get_nk(4,3))\n",
    "obj1.save_pt(10,'/Users/preshitadave/Documents/Boston related/BU/Courses/BF550/pascal_triangle.txt')"
   ]
  },
  {
   "cell_type": "markdown",
   "id": "reliable-diving",
   "metadata": {},
   "source": [
    "# Problem 2"
   ]
  },
  {
   "cell_type": "code",
   "execution_count": 14,
   "id": "attempted-worse",
   "metadata": {},
   "outputs": [
    {
     "name": "stdout",
     "output_type": "stream",
     "text": [
      "The number of samples available for just the first visit are: 1685\n"
     ]
    }
   ],
   "source": [
    "#storing all the data in one variable\n",
    "with open('/Users/preshitadave/Downloads/v13_map_uniquebyPSN.txt','rt') as f:\n",
    "    data = f.read()\n",
    "\n",
    "#split by newline\n",
    "nl_split=data.split('\\n')\n",
    "\n",
    "#split by tab\n",
    "tab_split = [st.split('\\t') for st in nl_split]\n",
    "tab_split = tab_split[1:]\n",
    "#create a dict with #sampleID ad key\n",
    "#new_dict={pair[0]:pair[1:] for pair in tab_split}\n",
    "\n",
    "#define empty variables for counting num of visits and storing body site samples\n",
    "num_visits=0\n",
    "categories={}\n",
    "\n",
    "for item in tab_split:\n",
    "    if item[2]=='1':\n",
    "        num_visits+=1\n",
    "    if item[5] not in categories.keys():\n",
    "        categories[item[5]] = [item[0]]\n",
    "    else:\n",
    "        categories[item[5]].append(item[0])\n",
    "        \n",
    "        \n",
    "print('The number of samples available for just the first visit are:',num_visits)\n",
    "\n",
    "#import them as files, each having a specific name with the IDS present in them\n",
    "for item in categories.keys():\n",
    "    file=open('{}.txt'.format(item),'wt')\n",
    "    file.write('\\n'.join(categories[item]))\n",
    "    file.close()\n"
   ]
  }
 ],
 "metadata": {
  "kernelspec": {
   "display_name": "Python 3",
   "language": "python",
   "name": "python3"
  },
  "language_info": {
   "codemirror_mode": {
    "name": "ipython",
    "version": 3
   },
   "file_extension": ".py",
   "mimetype": "text/x-python",
   "name": "python",
   "nbconvert_exporter": "python",
   "pygments_lexer": "ipython3",
   "version": "3.7.6"
  }
 },
 "nbformat": 4,
 "nbformat_minor": 5
}
